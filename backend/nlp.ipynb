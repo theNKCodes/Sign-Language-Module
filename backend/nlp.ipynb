{
 "cells": [
  {
   "cell_type": "code",
   "execution_count": 1,
   "id": "cf55f2b5-3b07-492f-89ca-65b3485d195e",
   "metadata": {},
   "outputs": [],
   "source": [
    "import nltk\n",
    "from nltk.tokenize import word_tokenize\n",
    "from nltk.corpus import stopwords\n",
    "import string\n",
    "# Load spaCy model\n",
    "import spacy"
   ]
  },
  {
   "cell_type": "code",
   "execution_count": 2,
   "id": "fd028357-2a6e-4487-b1c2-48dea25ab091",
   "metadata": {},
   "outputs": [
    {
     "name": "stderr",
     "output_type": "stream",
     "text": [
      "[nltk_data] Downloading package punkt to\n",
      "[nltk_data]     C:\\Users\\HP\\AppData\\Roaming\\nltk_data...\n",
      "[nltk_data]   Package punkt is already up-to-date!\n",
      "[nltk_data] Downloading package stopwords to\n",
      "[nltk_data]     C:\\Users\\HP\\AppData\\Roaming\\nltk_data...\n",
      "[nltk_data]   Package stopwords is already up-to-date!\n",
      "[nltk_data] Downloading package averaged_perceptron_tagger to\n",
      "[nltk_data]     C:\\Users\\HP\\AppData\\Roaming\\nltk_data...\n",
      "[nltk_data]   Package averaged_perceptron_tagger is already up-to-\n",
      "[nltk_data]       date!\n"
     ]
    },
    {
     "data": {
      "text/plain": [
       "True"
      ]
     },
     "execution_count": 2,
     "metadata": {},
     "output_type": "execute_result"
    }
   ],
   "source": [
    "nltk.download('punkt')  # Tokenization\n",
    "nltk.download('stopwords')  # Tokenization\n",
    "nltk.download('averaged_perceptron_tagger')  # POS Tagging"
   ]
  },
  {
   "cell_type": "code",
   "execution_count": 3,
   "id": "5745913e-e821-424e-9017-06c113c0b794",
   "metadata": {},
   "outputs": [
    {
     "name": "stdout",
     "output_type": "stream",
     "text": [
      "Filtered Tokens: ['great', 'good morning', 'example', 'sentence', 'short', 'demonstrating', 'feature', 'remove', 'revising']\n"
     ]
    }
   ],
   "source": [
    "text = \"This is a great good morning example sentence but too short for demonstrating this feature so I should've remove it or revising it.\"\n",
    "phrases = [\"good morning\", \"good afternoon\", \"good night\", \"how are you\", \"i am fine\", \"are you okay\", \"are you happy\", \"are you sad\", \"I understand\", \"I don't know\"]\n",
    "\n",
    "# Function to handle tokenization and preserve phrases\n",
    "def tokenize_and_preserve_phrases(text, phrases):\n",
    "    for phrase in phrases:\n",
    "        text = text.replace(phrase, phrase.replace(\" \", \"_\"))\n",
    "    \n",
    "    tokens = word_tokenize(text)\n",
    "    \n",
    "    # Normalize and replace underscores back to spaces\n",
    "    tokens = [word.lower().replace(\"_\", \" \") for word in tokens if word.isalpha() or \"_\" in word]\n",
    "    \n",
    "    return tokens\n",
    "\n",
    "# Tokenization with phrase preservation\n",
    "tokens = tokenize_and_preserve_phrases(text, phrases)\n",
    "\n",
    "# Stop words removal\n",
    "stop_words = set(stopwords.words('english'))\n",
    "filtered_tokens = [word for word in tokens if word not in stop_words]\n",
    "\n",
    "print(\"Filtered Tokens:\", filtered_tokens)"
   ]
  },
  {
   "cell_type": "code",
   "execution_count": 4,
   "id": "67a2d2bb-0268-4968-a87a-ce6dee08b16f",
   "metadata": {},
   "outputs": [
    {
     "name": "stdout",
     "output_type": "stream",
     "text": [
      "[('great', 'JJ'), ('good morning', 'VBG'), ('example', 'NN'), ('sentence', 'NN'), ('short', 'JJ'), ('demonstrating', 'NN'), ('feature', 'NN'), ('remove', 'VB'), ('revising', 'NN')]\n"
     ]
    }
   ],
   "source": [
    "# POS Tagging\n",
    "pos_tags = nltk.pos_tag(filtered_tokens)\n",
    "print(pos_tags)"
   ]
  },
  {
   "cell_type": "code",
   "execution_count": 5,
   "id": "e0160df4-9e9a-4d1c-ad04-8d45ab03ace6",
   "metadata": {},
   "outputs": [
    {
     "name": "stdout",
     "output_type": "stream",
     "text": [
      "[('morning', 'TIME')]\n",
      "['this', 'be', 'a', 'great', 'good', 'morning', 'example', 'sentence', 'but', 'too', 'short', 'for', 'demonstrate', 'this', 'feature', 'so', 'I', 'should', \"'ve\", 'remove', 'it', 'or', 'revise', 'it', '.']\n"
     ]
    }
   ],
   "source": [
    "nlp = spacy.load('en_core_web_sm')\n",
    "# Process text\n",
    "doc = nlp(text)\n",
    "# NER\n",
    "entities = [(entity.text, entity.label_) for entity in doc.ents]\n",
    "print(entities)\n",
    "\n",
    "# Lemmatization\n",
    "lemmas = [token.lemma_ for token in doc]\n",
    "print(lemmas)\n"
   ]
  }
 ],
 "metadata": {
  "kernelspec": {
   "display_name": "Python 3 (ipykernel)",
   "language": "python",
   "name": "python3"
  },
  "language_info": {
   "codemirror_mode": {
    "name": "ipython",
    "version": 3
   },
   "file_extension": ".py",
   "mimetype": "text/x-python",
   "name": "python",
   "nbconvert_exporter": "python",
   "pygments_lexer": "ipython3",
   "version": "3.12.2"
  }
 },
 "nbformat": 4,
 "nbformat_minor": 5
}
